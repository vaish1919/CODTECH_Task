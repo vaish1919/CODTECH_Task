{
 "cells": [
  {
   "cell_type": "code",
   "execution_count": 4,
   "id": "33c4c5ad-9b9d-4cc8-8199-4592386e8498",
   "metadata": {},
   "outputs": [
    {
     "name": "stdout",
     "output_type": "stream",
     "text": [
      "Requirement already satisfied: pulp in c:\\users\\vgshi\\anaconda3\\lib\\site-packages (3.1.1)\n"
     ]
    }
   ],
   "source": [
    "!pip install pulp"
   ]
  },
  {
   "cell_type": "code",
   "execution_count": 6,
   "id": "288d86d4-bfca-4dc8-9ad7-93922233f305",
   "metadata": {},
   "outputs": [],
   "source": [
    "import pulp as lp\n",
    "import pandas as pd"
   ]
  },
  {
   "cell_type": "code",
   "execution_count": 8,
   "id": "badcf391-4743-4b5f-9fca-58af4f7dcf8c",
   "metadata": {},
   "outputs": [
    {
     "name": "stdout",
     "output_type": "stream",
     "text": [
      "Status: Optimal\n",
      "Optimal Transportation Plan:\n",
      "Transport_('Supplier_A',_'City_X') = 400.0\n",
      "Transport_('Supplier_A',_'City_Y') = 0.0\n",
      "Transport_('Supplier_A',_'City_Z') = 100.0\n",
      "Transport_('Supplier_B',_'City_X') = 0.0\n",
      "Transport_('Supplier_B',_'City_Y') = 600.0\n",
      "Transport_('Supplier_B',_'City_Z') = 100.0\n",
      "Total Cost: 4900.0\n"
     ]
    }
   ],
   "source": [
    "\n",
    "\n",
    "# Define the problem\n",
    "problem = lp.LpProblem(\"Supply_Chain_Optimization\", lp.LpMinimize)\n",
    "\n",
    "# Supply points and their capacities\n",
    "suppliers = {'Supplier_A': 500, 'Supplier_B': 700}\n",
    "\n",
    "demand_points = {'City_X': 400, 'City_Y': 600, 'City_Z': 200}\n",
    "\n",
    "# Transportation costs (cost per unit from supplier to city)\n",
    "costs = {\n",
    "    ('Supplier_A', 'City_X'): 4,\n",
    "    ('Supplier_A', 'City_Y'): 6,\n",
    "    ('Supplier_A', 'City_Z'): 8,\n",
    "    ('Supplier_B', 'City_X'): 5,\n",
    "    ('Supplier_B', 'City_Y'): 3,\n",
    "    ('Supplier_B', 'City_Z'): 7,\n",
    "}\n",
    "\n",
    "# Decision variables\n",
    "x = lp.LpVariable.dicts(\"Transport\", costs.keys(), lowBound=0, cat='Continuous')\n",
    "\n",
    "# Objective function: Minimize transportation cost\n",
    "problem += lp.lpSum(costs[i] * x[i] for i in costs), \"Total Transportation Cost\"\n",
    "\n",
    "# Supply constraints\n",
    "for s in suppliers:\n",
    "    problem += lp.lpSum(x[(s, d)] for d in demand_points) <= suppliers[s], f\"Supply_Constraint_{s}\"\n",
    "\n",
    "# Demand constraints\n",
    "for d in demand_points:\n",
    "    problem += lp.lpSum(x[(s, d)] for s in suppliers) >= demand_points[d], f\"Demand_Constraint_{d}\"\n",
    "\n",
    "# Solve the problem\n",
    "problem.solve()\n",
    "\n",
    "# Print the results\n",
    "print(\"Status:\", lp.LpStatus[problem.status])\n",
    "print(\"Optimal Transportation Plan:\")\n",
    "for var in problem.variables():\n",
    "    print(var.name, \"=\", var.varValue)\n",
    "print(\"Total Cost:\", lp.value(problem.objective))\n"
   ]
  },
  {
   "cell_type": "code",
   "execution_count": null,
   "id": "a2c8c027-5c3d-47b8-8960-aab914f1193d",
   "metadata": {},
   "outputs": [],
   "source": []
  }
 ],
 "metadata": {
  "kernelspec": {
   "display_name": "Python 3 (ipykernel)",
   "language": "python",
   "name": "python3"
  },
  "language_info": {
   "codemirror_mode": {
    "name": "ipython",
    "version": 3
   },
   "file_extension": ".py",
   "mimetype": "text/x-python",
   "name": "python",
   "nbconvert_exporter": "python",
   "pygments_lexer": "ipython3",
   "version": "3.12.4"
  }
 },
 "nbformat": 4,
 "nbformat_minor": 5
}
